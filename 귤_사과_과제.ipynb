{
  "nbformat": 4,
  "nbformat_minor": 0,
  "metadata": {
    "colab": {
      "provenance": [],
      "authorship_tag": "ABX9TyNGb8OJI7zcyJTvh2nzmHZi",
      "include_colab_link": true
    },
    "kernelspec": {
      "name": "python3",
      "display_name": "Python 3"
    },
    "language_info": {
      "name": "python"
    }
  },
  "cells": [
    {
      "cell_type": "markdown",
      "metadata": {
        "id": "view-in-github",
        "colab_type": "text"
      },
      "source": [
        "<a href=\"https://colab.research.google.com/github/yeeun0813/baewha/blob/main/%EA%B7%A4_%EC%82%AC%EA%B3%BC_%EA%B3%BC%EC%A0%9C.ipynb\" target=\"_parent\"><img src=\"https://colab.research.google.com/assets/colab-badge.svg\" alt=\"Open In Colab\"/></a>"
      ]
    },
    {
      "cell_type": "code",
      "execution_count": 1,
      "metadata": {
        "colab": {
          "base_uri": "https://localhost:8080/"
        },
        "id": "cqUgjE4Z8ClZ",
        "outputId": "36096931-3da4-4f96-9709-0b206a57f06b"
      },
      "outputs": [
        {
          "output_type": "stream",
          "name": "stdout",
          "text": [
            "최종 지불 금액: 1320.0\n",
            "사과 가격 기울기: 2.2\n",
            "사과 개수 기울기: 110.00000000000001\n",
            "귤 가격 기울기: 4.4\n",
            "귤 개수 기울기: 275.0\n",
            "소비세 기울기: 1200\n"
          ]
        }
      ],
      "source": [
        "class MulLayer:\n",
        "    def __init__(self):\n",
        "        self.x = None\n",
        "        self.y = None\n",
        "\n",
        "    def forward(self, x, y):\n",
        "        self.x = x\n",
        "        self.y = y\n",
        "        return x * y\n",
        "\n",
        "    def backward(self, dout):\n",
        "        dx = dout * self.y\n",
        "        dy = dout * self.x\n",
        "        return dx, dy\n",
        "\n",
        "class AddLayer:\n",
        "    def __init__(self):\n",
        "        pass\n",
        "\n",
        "    def forward(self, x, y):\n",
        "        return x + y\n",
        "\n",
        "    def backward(self, dout):\n",
        "        dx = dout * 1\n",
        "        dy = dout * 1\n",
        "        return dx, dy\n",
        "\n",
        "# 입력값\n",
        "apple_price = 100\n",
        "apple_num = 2\n",
        "orange_price = 250\n",
        "orange_num = 4\n",
        "tax = 1.1\n",
        "\n",
        "# 계층 정의\n",
        "mul_apple_layer = MulLayer()\n",
        "mul_orange_layer = MulLayer()\n",
        "add_layer = AddLayer()\n",
        "mul_tax_layer = MulLayer()\n",
        "\n",
        "# 순전파 실행\n",
        "apple_total = mul_apple_layer.forward(apple_price, apple_num)\n",
        "orange_total = mul_orange_layer.forward(orange_price, orange_num)\n",
        "total_price = add_layer.forward(apple_total, orange_total)\n",
        "final_price = mul_tax_layer.forward(total_price, tax)\n",
        "\n",
        "print(\"최종 지불 금액:\", final_price)\n",
        "\n",
        "# 역전파 실행\n",
        "dprice = 1\n",
        "dtotal_price, dtax = mul_tax_layer.backward(dprice)\n",
        "dapple_total, dorange_total = add_layer.backward(dtotal_price)\n",
        "dapple_price, dapple_num = mul_apple_layer.backward(dapple_total)\n",
        "dorange_price, dorange_num = mul_orange_layer.backward(dorange_total)\n",
        "\n",
        "print(\"사과 가격 기울기:\", dapple_price)\n",
        "print(\"사과 개수 기울기:\", dapple_num)\n",
        "print(\"귤 가격 기울기:\", dorange_price)\n",
        "print(\"귤 개수 기울기:\", dorange_num)\n",
        "print(\"소비세 기울기:\", dtax)"
      ]
    }
  ]
}