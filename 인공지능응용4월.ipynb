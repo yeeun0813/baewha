{
  "nbformat": 4,
  "nbformat_minor": 0,
  "metadata": {
    "colab": {
      "provenance": [],
      "gpuType": "T4",
      "authorship_tag": "ABX9TyP8CUJCGjRAOiY9UDScNXcG",
      "include_colab_link": true
    },
    "kernelspec": {
      "name": "python3",
      "display_name": "Python 3"
    },
    "language_info": {
      "name": "python"
    },
    "accelerator": "GPU"
  },
  "cells": [
    {
      "cell_type": "markdown",
      "metadata": {
        "id": "view-in-github",
        "colab_type": "text"
      },
      "source": [
        "<a href=\"https://colab.research.google.com/github/yeeun0813/baewha/blob/main/%EC%9D%B8%EA%B3%B5%EC%A7%80%EB%8A%A5%EC%9D%91%EC%9A%A94%EC%9B%94.ipynb\" target=\"_parent\"><img src=\"https://colab.research.google.com/assets/colab-badge.svg\" alt=\"Open In Colab\"/></a>"
      ]
    },
    {
      "cell_type": "code",
      "execution_count": 4,
      "metadata": {
        "id": "glmPrMEqvMnl"
      },
      "outputs": [],
      "source": [
        "import torch\n",
        "import torch.nn as nn\n",
        "import torch.optim as optim\n",
        "import torchvision\n",
        "import torchvision.transforms as transforms\n",
        "from torch.utils.data import DataLoader\n",
        "import matplotlib.pyplot as plt"
      ]
    },
    {
      "cell_type": "code",
      "source": [
        "device = torch.device(\"cuda\" if torch.cuda.is_available() else \"cpu\")\n",
        "print(f\"Using device: {device}\")"
      ],
      "metadata": {
        "colab": {
          "base_uri": "https://localhost:8080/"
        },
        "id": "8EVHf4uC9vIC",
        "outputId": "f44e2db1-7595-44d2-a79b-9400d5a9a5ec"
      },
      "execution_count": 5,
      "outputs": [
        {
          "output_type": "stream",
          "name": "stdout",
          "text": [
            "Using device: cuda\n"
          ]
        }
      ]
    },
    {
      "cell_type": "code",
      "source": [
        "transform = transforms.Compose([\n",
        "    transforms.ToTensor(),           # PyTorch 텐서 변환\n",
        "    transforms.Normalize((0.5,), (0.5,))  # 정규화 (-1 ~ 1)\n",
        "])"
      ],
      "metadata": {
        "id": "eD0ZVybo98fK"
      },
      "execution_count": 6,
      "outputs": []
    },
    {
      "cell_type": "code",
      "source": [
        "train_dataset = torchvision.datasets.MNIST(root='./data', train=True, transform=transform, download=True)\n",
        "test_dataset = torchvision.datasets.MNIST(root='./data', train=False, transform=transform, download=True)\n",
        "train_loader = DataLoader(train_dataset, batch_size=100, shuffle=True)\n",
        "test_loader = DataLoader(test_dataset, batch_size=100, shuffle=False)"
      ],
      "metadata": {
        "colab": {
          "base_uri": "https://localhost:8080/"
        },
        "id": "2kj8MWo2-A4C",
        "outputId": "630bbcc0-11ad-4316-eb22-92e82b88123f"
      },
      "execution_count": 7,
      "outputs": [
        {
          "output_type": "stream",
          "name": "stderr",
          "text": [
            "100%|██████████| 9.91M/9.91M [00:00<00:00, 16.3MB/s]\n",
            "100%|██████████| 28.9k/28.9k [00:00<00:00, 482kB/s]\n",
            "100%|██████████| 1.65M/1.65M [00:00<00:00, 4.48MB/s]\n",
            "100%|██████████| 4.54k/4.54k [00:00<00:00, 6.84MB/s]\n"
          ]
        }
      ]
    },
    {
      "cell_type": "code",
      "source": [
        "class TwoLayerNet(nn.Module):\n",
        "    def __init__(self):\n",
        "        super(TwoLayerNet, self).__init__()\n",
        "        self.fc1 = nn.Linear(28*28, 50)  # 입력층 → 은닉층 (50 뉴런)\n",
        "        self.relu = nn.ReLU()\n",
        "        self.fc2 = nn.Linear(50, 10)     # 은닉층 → 출력층 (10 뉴런)\n",
        "\n",
        "    def forward(self, x):\n",
        "        x = x.view(-1, 28*28)  # 2D 이미지 -> 1D 벡터 변환\n",
        "        x = self.relu(self.fc1(x))\n",
        "        x = self.fc2(x)  # Softmax는 CrossEntropyLoss에서 자동 적용됨\n",
        "        return x"
      ],
      "metadata": {
        "id": "qSN0xmnW-PHa"
      },
      "execution_count": 8,
      "outputs": []
    },
    {
      "cell_type": "code",
      "source": [
        "model = TwoLayerNet().to(device)\n",
        "criterion = nn.CrossEntropyLoss() #손실함수: 교차 엔트로피 함수\n",
        "optimizer = optim.SGD(model.parameters(), lr=0.1)  # 경사하강법"
      ],
      "metadata": {
        "id": "SGJYTK24-X5y"
      },
      "execution_count": 9,
      "outputs": []
    },
    {
      "cell_type": "code",
      "source": [
        "# 5. 모델 학습\n",
        "num_epochs = 16\n",
        "train_losses, test_accuracies = [], []\n",
        "\n",
        "for epoch in range(num_epochs):\n",
        "    model.train()\n",
        "    running_loss = 0.0\n",
        "\n",
        "    for images, labels in train_loader:\n",
        "        images, labels = images.to(device), labels.to(device)\n",
        "\n",
        "        optimizer.zero_grad()\n",
        "        outputs = model(images)\n",
        "        loss = criterion(outputs, labels)\n",
        "        loss.backward()\n",
        "        optimizer.step()\n",
        "\n",
        "        running_loss += loss.item()\n",
        "\n",
        "    train_losses.append(running_loss / len(train_loader))\n",
        "\n",
        "    # 테스트 정확도 계산\n",
        "    model.eval()\n",
        "    correct = 0\n",
        "    total = 0\n",
        "    with torch.no_grad():\n",
        "        for images, labels in test_loader:\n",
        "            images, labels = images.to(device), labels.to(device)\n",
        "            outputs = model(images)\n",
        "            _, predicted = torch.max(outputs, 1)\n",
        "            correct += (predicted == labels).sum().item()\n",
        "            total += labels.size(0)\n",
        "\n",
        "    test_acc = correct / total\n",
        "    test_accuracies.append(test_acc)\n",
        "\n",
        "    print(f\"Epoch [{epoch+1}/{num_epochs}], Loss: {train_losses[-1]:.4f}, Test Accuracy: {test_acc:.4f}\")\n"
      ],
      "metadata": {
        "colab": {
          "base_uri": "https://localhost:8080/"
        },
        "id": "RNH-Utfw-aQK",
        "outputId": "30acf5dc-c2ea-4143-dc0f-2b933644f9b2"
      },
      "execution_count": 10,
      "outputs": [
        {
          "output_type": "stream",
          "name": "stdout",
          "text": [
            "Epoch [1/16], Loss: 0.4684, Test Accuracy: 0.9315\n",
            "Epoch [2/16], Loss: 0.2289, Test Accuracy: 0.9410\n",
            "Epoch [3/16], Loss: 0.1792, Test Accuracy: 0.9550\n",
            "Epoch [4/16], Loss: 0.1496, Test Accuracy: 0.9580\n",
            "Epoch [5/16], Loss: 0.1305, Test Accuracy: 0.9562\n",
            "Epoch [6/16], Loss: 0.1185, Test Accuracy: 0.9669\n",
            "Epoch [7/16], Loss: 0.1084, Test Accuracy: 0.9666\n",
            "Epoch [8/16], Loss: 0.0976, Test Accuracy: 0.9681\n",
            "Epoch [9/16], Loss: 0.0919, Test Accuracy: 0.9660\n",
            "Epoch [10/16], Loss: 0.0862, Test Accuracy: 0.9686\n",
            "Epoch [11/16], Loss: 0.0795, Test Accuracy: 0.9690\n",
            "Epoch [12/16], Loss: 0.0751, Test Accuracy: 0.9700\n",
            "Epoch [13/16], Loss: 0.0713, Test Accuracy: 0.9733\n",
            "Epoch [14/16], Loss: 0.0685, Test Accuracy: 0.9715\n",
            "Epoch [15/16], Loss: 0.0644, Test Accuracy: 0.9732\n",
            "Epoch [16/16], Loss: 0.0622, Test Accuracy: 0.9711\n"
          ]
        }
      ]
    },
    {
      "cell_type": "code",
      "source": [
        "plt.plot(train_losses, label=\"Train Loss\")\n",
        "plt.xlabel(\"Epochs\")\n",
        "plt.ylabel(\"Loss\")\n",
        "plt.legend()\n",
        "plt.show()"
      ],
      "metadata": {
        "colab": {
          "base_uri": "https://localhost:8080/",
          "height": 449
        },
        "id": "aRKCnPCC_Sa6",
        "outputId": "d6d95dd3-592d-4f43-fe3d-e548e77c678b"
      },
      "execution_count": 11,
      "outputs": [
        {
          "output_type": "display_data",
          "data": {
            "text/plain": [
              "<Figure size 640x480 with 1 Axes>"
            ],
            "image/png": "[encoded data removed]"
          },
          "metadata": {}
        }
      ]
    },
    {
      "cell_type": "code",
      "source": [
        "plt.plot(test_accuracies, label=\"Test Accuracy\")\n",
        "plt.xlabel(\"Epochs\")\n",
        "plt.ylabel(\"Accuracy\")\n",
        "plt.legend()\n",
        "plt.show()"
      ],
      "metadata": {
        "colab": {
          "base_uri": "https://localhost:8080/",
          "height": 449
        },
        "id": "7-63KRUD_V5i",
        "outputId": "b58bf706-f59b-4eee-9ad9-f27609c5616e"
      },
      "execution_count": 12,
      "outputs": [
        {
          "output_type": "display_data",
          "data": {
            "text/plain": [
              "<Figure size 640x480 with 1 Axes>"
            ],
            "image/png": "[encoded data removed]"
          },
          "metadata": {}
        }
      ]
    },
    {
      "cell_type": "code",
      "source": [
        "import numpy as np\n",
        "import torch\n",
        "import torch.nn as nn\n",
        "import torch.nn.functional as F\n",
        "import torch.optim as optim\n",
        "import torchvision\n",
        "from torchvision import datasets, transforms\n",
        "from torch.utils.data import DataLoader\n",
        "import matplotlib.pyplot as plt\n",
        "from datetime import datetime"
      ],
      "metadata": {
        "id": "78Q5K6SyIxZH"
      },
      "execution_count": 13,
      "outputs": []
    },
    {
      "cell_type": "code",
      "source": [
        "device = torch.device(\"cuda\" if torch.cuda.is_available() else \"cpu\")\n",
        "print(f\"Using device: {device}\")"
      ],
      "metadata": {
        "colab": {
          "base_uri": "https://localhost:8080/"
        },
        "id": "9Z2JfevoIz-H",
        "outputId": "117b29bb-78cf-4960-fede-8f9b27c15d17"
      },
      "execution_count": 14,
      "outputs": [
        {
          "output_type": "stream",
          "name": "stdout",
          "text": [
            "Using device: cuda\n"
          ]
        }
      ]
    },
    {
      "cell_type": "code",
      "source": [
        "learning_rate = 0.001\n",
        "batch = 32\n",
        "epochs = 15\n",
        "\n",
        "image_size = 32\n",
        "nb_class = 10"
      ],
      "metadata": {
        "id": "X0Ufz8rNI1rP"
      },
      "execution_count": 15,
      "outputs": []
    },
    {
      "cell_type": "code",
      "source": [
        "# transforms 정의하기\n",
        "transforms = transforms.Compose([transforms.Resize((image_size, image_size)),\n",
        "                                 transforms.ToTensor()])\n",
        "\n",
        "# data set 다운받고 생성하기\n",
        "train_dataset = datasets.MNIST(root='./data',\n",
        "                               train=True,\n",
        "                               transform=transforms,\n",
        "                               download=True)\n",
        "\n",
        "valid_dataset = datasets.MNIST(root='./data',\n",
        "                               train=False,\n",
        "                               transform=transforms)\n",
        "\n",
        "# data loader 정의하기\n",
        "train_loader = DataLoader(dataset=train_dataset,\n",
        "                          batch_size=batch,\n",
        "                          shuffle=True)\n",
        "\n",
        "valid_loader = DataLoader(dataset=valid_dataset,\n",
        "                          batch_size=batch,\n",
        "                          shuffle=False)"
      ],
      "metadata": {
        "id": "uvwPtRl1I4BX"
      },
      "execution_count": 16,
      "outputs": []
    },
    {
      "cell_type": "code",
      "source": [
        "class LeNet5(nn.Module):\n",
        "    def __init__(self, n_classes):\n",
        "        super(LeNet5, self).__init__()\n",
        "\n",
        "        self.feature_extractor = nn.Sequential(\n",
        "            nn.Conv2d(in_channels=1, out_channels=6, kernel_size=5, stride=1),\n",
        "            nn.Tanh(),\n",
        "            nn.AvgPool2d(kernel_size=2),\n",
        "            nn.Conv2d(in_channels=6, out_channels=16, kernel_size=5, stride=1),\n",
        "            nn.Tanh(),\n",
        "            nn.AvgPool2d(kernel_size=2),\n",
        "            nn.Conv2d(in_channels=16, out_channels=120, kernel_size=5, stride=1),\n",
        "            nn.Tanh()\n",
        "        )\n",
        "        self.classifier = nn.Sequential(\n",
        "            nn.Linear(in_features=120, out_features=84),\n",
        "            nn.Tanh(),\n",
        "            nn.Linear(in_features=84, out_features=n_classes),\n",
        "        )\n",
        "\n",
        "    def forward(self, x):\n",
        "        x = self.feature_extractor(x)\n",
        "        x = torch.flatten(x, 1)\n",
        "        logits = self.classifier(x)\n",
        "        probs = F.softmax(logits, dim=1)\n",
        "        return logits, probs"
      ],
      "metadata": {
        "id": "beJmC785I58f"
      },
      "execution_count": 17,
      "outputs": []
    },
    {
      "cell_type": "code",
      "source": [
        "def get_accuracy(model, data_loader, device):\n",
        "    correct_pred = 0\n",
        "    n = 0\n",
        "\n",
        "    with torch.no_grad():\n",
        "        model.eval()\n",
        "        for X, y_true in data_loader:\n",
        "\n",
        "            X = X.to(device)\n",
        "            y_true = y_true.to(device)\n",
        "\n",
        "            _, y_prob = model(X)\n",
        "            _, predicted_labels = torch.max(y_prob, 1)\n",
        "\n",
        "            n += y_true.size(0)\n",
        "            correct_pred += (predicted_labels == y_true).sum()\n",
        "\n",
        "    return correct_pred.float() / n"
      ],
      "metadata": {
        "id": "mX2ovaaSI72n"
      },
      "execution_count": 18,
      "outputs": []
    },
    {
      "cell_type": "code",
      "source": [
        "def plot_losses(train_losses, valid_losses):\n",
        "    train_losses = np.array(train_losses)\n",
        "    valid_losses = np.array(valid_losses)\n",
        "\n",
        "    fig, ax = plt.subplots(figsize = (8, 4.5))\n",
        "\n",
        "    ax.plot(train_losses, color='blue', label='Training loss')\n",
        "    ax.plot(valid_losses, color='red', label='Validation loss')\n",
        "    ax.set(title=\"Loss over epochs\",\n",
        "            xlabel='Epoch',\n",
        "            ylabel='Loss')\n",
        "    ax.legend()\n",
        "    fig.show()\n",
        "\n",
        "    # plot style을 기본값으로 설정\n",
        "    plt.style.use('default')"
      ],
      "metadata": {
        "id": "KYlw1FxUI-4H"
      },
      "execution_count": 19,
      "outputs": []
    },
    {
      "cell_type": "code",
      "source": [
        "def train(train_loader, model, criterion, optimizer, device):\n",
        "    model.train()\n",
        "    running_loss = 0\n",
        "\n",
        "    for X, y_true in train_loader:\n",
        "\n",
        "        optimizer.zero_grad()\n",
        "\n",
        "        X = X.to(device)\n",
        "        y_true = y_true.to(device)\n",
        "\n",
        "        # 순전파\n",
        "        y_hat, _ = model(X)\n",
        "        loss = criterion(y_hat, y_true)\n",
        "        running_loss += loss.item() * X.size(0)\n",
        "\n",
        "        # 역전파\n",
        "        loss.backward()\n",
        "        optimizer.step()\n",
        "\n",
        "    epoch_loss = running_loss / len(train_loader.dataset)\n",
        "    return model, optimizer, epoch_loss"
      ],
      "metadata": {
        "id": "rn7e2BAWI_tP"
      },
      "execution_count": 20,
      "outputs": []
    },
    {
      "cell_type": "code",
      "source": [
        "def validate(valid_loader, model, criterion, device):\n",
        "    model.eval()\n",
        "    running_loss = 0\n",
        "\n",
        "    for X, y_true in valid_loader:\n",
        "\n",
        "        X = X.to(device)\n",
        "        y_true = y_true.to(device)\n",
        "\n",
        "        # 순전파와 손실 기록하기\n",
        "        y_hat, _ = model(X)\n",
        "        loss = criterion(y_hat, y_true)\n",
        "        running_loss += loss.item() * X.size(0)\n",
        "\n",
        "    epoch_loss = running_loss / len(valid_loader.dataset)\n",
        "\n",
        "    return model, epoch_loss\n",
        ""
      ],
      "metadata": {
        "id": "3eYM5EU7JBpv"
      },
      "execution_count": 21,
      "outputs": []
    },
    {
      "cell_type": "code",
      "source": [
        "def training_loop(model, criterion, optimizer, train_loader, valid_loader, epochs, device, print_every=1):\n",
        "    # metrics를 저장하기 위한 객체 설정\n",
        "    best_loss = 1e10\n",
        "    train_losses = []\n",
        "    valid_losses = []\n",
        "\n",
        "    # model 학습하기\n",
        "    for epoch in range(0, epochs):\n",
        "\n",
        "        # training\n",
        "        model, optimizer, train_loss = train(train_loader, model, criterion, optimizer, device)\n",
        "        train_losses.append(train_loss)\n",
        "\n",
        "        # validation\n",
        "        with torch.no_grad():\n",
        "            model, valid_loss = validate(valid_loader, model, criterion, device)\n",
        "            valid_losses.append(valid_loss)\n",
        "\n",
        "        if epoch % print_every == (print_every - 1):\n",
        "\n",
        "            train_acc = get_accuracy(model, train_loader, device=device)\n",
        "            valid_acc = get_accuracy(model, valid_loader, device=device)\n",
        "\n",
        "            print(f'{datetime.now().time().replace(microsecond=0)} --- '\n",
        "                  f'Epoch: {epoch}\\t'\n",
        "                  f'Train loss: {train_loss:.4f}\\t'\n",
        "                  f'Valid loss: {valid_loss:.4f}\\t'\n",
        "                  f'Train accuracy: {100 * train_acc:.2f}\\t'\n",
        "                  f'Valid accuracy: {100 * valid_acc:.2f}')\n",
        "\n",
        "    plot_losses(train_losses, valid_losses)\n",
        "\n",
        "    return model, optimizer, (train_losses, valid_losses)"
      ],
      "metadata": {
        "id": "Nogjz6IBJEtf"
      },
      "execution_count": 22,
      "outputs": []
    },
    {
      "cell_type": "code",
      "source": [
        "#RANDOM_SEED = 42\n",
        "#torch.manual_seed(RANDOM_SEED)\n",
        "\n",
        "model = LeNet5(nb_class).to(device)\n",
        "optimizer = torch.optim.Adam(model.parameters(), lr=learning_rate)\n",
        "criterion = nn.CrossEntropyLoss()\n",
        "\n",
        "\n",
        "model, optimizer, _ = training_loop(model, criterion, optimizer, train_loader,\n",
        "                                    valid_loader, epochs, device)"
      ],
      "metadata": {
        "colab": {
          "base_uri": "https://localhost:8080/",
          "height": 724
        },
        "id": "1nvxFujqJGl_",
        "outputId": "ea222476-a796-4229-dbce-31a81af36830"
      },
      "execution_count": 23,
      "outputs": [
        {
          "output_type": "stream",
          "name": "stdout",
          "text": [
            "11:37:58 --- Epoch: 0\tTrain loss: 0.2318\tValid loss: 0.0960\tTrain accuracy: 97.05\tValid accuracy: 97.18\n",
            "11:38:24 --- Epoch: 1\tTrain loss: 0.0827\tValid loss: 0.0699\tTrain accuracy: 98.14\tValid accuracy: 97.73\n",
            "11:38:50 --- Epoch: 2\tTrain loss: 0.0590\tValid loss: 0.0633\tTrain accuracy: 98.65\tValid accuracy: 97.95\n",
            "11:39:15 --- Epoch: 3\tTrain loss: 0.0473\tValid loss: 0.0489\tTrain accuracy: 99.01\tValid accuracy: 98.39\n",
            "11:39:41 --- Epoch: 4\tTrain loss: 0.0388\tValid loss: 0.0469\tTrain accuracy: 99.14\tValid accuracy: 98.44\n",
            "11:40:06 --- Epoch: 5\tTrain loss: 0.0317\tValid loss: 0.0517\tTrain accuracy: 99.16\tValid accuracy: 98.34\n",
            "11:40:31 --- Epoch: 6\tTrain loss: 0.0286\tValid loss: 0.0502\tTrain accuracy: 99.17\tValid accuracy: 98.36\n",
            "11:40:56 --- Epoch: 7\tTrain loss: 0.0233\tValid loss: 0.0425\tTrain accuracy: 99.50\tValid accuracy: 98.70\n",
            "11:41:22 --- Epoch: 8\tTrain loss: 0.0213\tValid loss: 0.0433\tTrain accuracy: 99.47\tValid accuracy: 98.66\n",
            "11:41:47 --- Epoch: 9\tTrain loss: 0.0201\tValid loss: 0.0490\tTrain accuracy: 99.57\tValid accuracy: 98.53\n",
            "11:42:12 --- Epoch: 10\tTrain loss: 0.0159\tValid loss: 0.0496\tTrain accuracy: 99.43\tValid accuracy: 98.56\n",
            "11:42:37 --- Epoch: 11\tTrain loss: 0.0168\tValid loss: 0.0426\tTrain accuracy: 99.61\tValid accuracy: 98.64\n",
            "11:43:02 --- Epoch: 12\tTrain loss: 0.0146\tValid loss: 0.0508\tTrain accuracy: 99.60\tValid accuracy: 98.62\n",
            "11:43:27 --- Epoch: 13\tTrain loss: 0.0129\tValid loss: 0.0448\tTrain accuracy: 99.54\tValid accuracy: 98.78\n",
            "11:43:52 --- Epoch: 14\tTrain loss: 0.0125\tValid loss: 0.0495\tTrain accuracy: 99.71\tValid accuracy: 98.63\n"
          ]
        },
        {
          "output_type": "display_data",
          "data": {
            "text/plain": [
              "<Figure size 800x450 with 1 Axes>"
            ],
            "image/png": "[encoded data removed]"
          },
          "metadata": {}
        }
      ]
    }
  ]
}